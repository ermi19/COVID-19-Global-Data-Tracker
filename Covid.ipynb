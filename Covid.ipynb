{
 "cells": [
  {
   "cell_type": "code",
   "execution_count": 17,
   "id": "93e59a27-87ff-4109-9f4e-e4579dc44bcb",
   "metadata": {},
   "outputs": [
    {
     "name": "stdout",
     "output_type": "stream",
     "text": [
      "Columns in the dataset:\n",
      "Index(['iso_code', 'continent', 'location', 'date', 'total_cases', 'new_cases',\n",
      "       'new_cases_smoothed', 'total_deaths', 'new_deaths',\n",
      "       'new_deaths_smoothed', 'total_cases_per_million',\n",
      "       'new_cases_per_million', 'new_cases_smoothed_per_million',\n",
      "       'total_deaths_per_million', 'new_deaths_per_million',\n",
      "       'new_deaths_smoothed_per_million', 'new_tests', 'total_tests',\n",
      "       'total_tests_per_thousand', 'new_tests_per_thousand',\n",
      "       'new_tests_smoothed', 'new_tests_smoothed_per_thousand',\n",
      "       'tests_per_case', 'positive_rate', 'tests_units', 'stringency_index',\n",
      "       'population', 'population_density', 'median_age', 'aged_65_older',\n",
      "       'aged_70_older', 'gdp_per_capita', 'extreme_poverty',\n",
      "       'cardiovasc_death_rate', 'diabetes_prevalence', 'female_smokers',\n",
      "       'male_smokers', 'handwashing_facilities', 'hospital_beds_per_thousand',\n",
      "       'life_expectancy', 'human_development_index'],\n",
      "      dtype='object')\n",
      "\n",
      "First few rows of the dataset:\n",
      "  iso_code continent     location        date  total_cases  new_cases  \\\n",
      "0      AFG      Asia  Afghanistan  2019-12-31          0.0        0.0   \n",
      "1      AFG      Asia  Afghanistan  2020-01-01          0.0        0.0   \n",
      "2      AFG      Asia  Afghanistan  2020-01-02          0.0        0.0   \n",
      "3      AFG      Asia  Afghanistan  2020-01-03          0.0        0.0   \n",
      "4      AFG      Asia  Afghanistan  2020-01-04          0.0        0.0   \n",
      "\n",
      "   new_cases_smoothed  total_deaths  new_deaths  new_deaths_smoothed  ...  \\\n",
      "0                 NaN           0.0         0.0                  NaN  ...   \n",
      "1                 NaN           0.0         0.0                  NaN  ...   \n",
      "2                 NaN           0.0         0.0                  NaN  ...   \n",
      "3                 NaN           0.0         0.0                  NaN  ...   \n",
      "4                 NaN           0.0         0.0                  NaN  ...   \n",
      "\n",
      "   gdp_per_capita  extreme_poverty  cardiovasc_death_rate  \\\n",
      "0        1803.987              NaN                597.029   \n",
      "1        1803.987              NaN                597.029   \n",
      "2        1803.987              NaN                597.029   \n",
      "3        1803.987              NaN                597.029   \n",
      "4        1803.987              NaN                597.029   \n",
      "\n",
      "   diabetes_prevalence  female_smokers  male_smokers  handwashing_facilities  \\\n",
      "0                 9.59             NaN           NaN                  37.746   \n",
      "1                 9.59             NaN           NaN                  37.746   \n",
      "2                 9.59             NaN           NaN                  37.746   \n",
      "3                 9.59             NaN           NaN                  37.746   \n",
      "4                 9.59             NaN           NaN                  37.746   \n",
      "\n",
      "   hospital_beds_per_thousand  life_expectancy  human_development_index  \n",
      "0                         0.5            64.83                    0.498  \n",
      "1                         0.5            64.83                    0.498  \n",
      "2                         0.5            64.83                    0.498  \n",
      "3                         0.5            64.83                    0.498  \n",
      "4                         0.5            64.83                    0.498  \n",
      "\n",
      "[5 rows x 41 columns]\n",
      "\n",
      "Missing values in each column:\n",
      "iso_code                             264\n",
      "continent                            528\n",
      "location                               0\n",
      "date                                   0\n",
      "total_cases                          603\n",
      "new_cases                            803\n",
      "new_cases_smoothed                  1585\n",
      "total_deaths                         603\n",
      "new_deaths                           803\n",
      "new_deaths_smoothed                 1585\n",
      "total_cases_per_million              867\n",
      "new_cases_per_million                867\n",
      "new_cases_smoothed_per_million      1650\n",
      "total_deaths_per_million             867\n",
      "new_deaths_per_million               867\n",
      "new_deaths_smoothed_per_million     1650\n",
      "new_tests                          29138\n",
      "total_tests                        28763\n",
      "total_tests_per_thousand           28763\n",
      "new_tests_per_thousand             29138\n",
      "new_tests_smoothed                 27217\n",
      "new_tests_smoothed_per_thousand    27217\n",
      "tests_per_case                     28636\n",
      "positive_rate                      28252\n",
      "tests_units                        26411\n",
      "stringency_index                    7728\n",
      "population                           264\n",
      "population_density                  2283\n",
      "median_age                          4833\n",
      "aged_65_older                       5425\n",
      "aged_70_older                       5040\n",
      "gdp_per_capita                      5343\n",
      "extreme_poverty                    18463\n",
      "cardiovasc_death_rate               4818\n",
      "diabetes_prevalence                 3419\n",
      "female_smokers                     13427\n",
      "male_smokers                       13822\n",
      "handwashing_facilities             26127\n",
      "hospital_beds_per_thousand          8646\n",
      "life_expectancy                      822\n",
      "human_development_index             6227\n",
      "dtype: int64\n",
      "Warning: Column 'total_vaccinations' not found in the filtered dataset.\n"
     ]
    },
    {
     "data": {
      "image/png": "[encoded data removed]",
      "text/plain": [
       "<Figure size 1000x500 with 1 Axes>"
      ]
     },
     "metadata": {},
     "output_type": "display_data"
    },
    {
     "name": "stdout",
     "output_type": "stream",
     "text": [
      "Warning: 'total_vaccinations' column not found in the filtered dataset.\n"
     ]
    },
    {
     "data": {
      "application/vnd.plotly.v1+json": {
       "config": {
        "plotlyServerURL": "https://plot.ly"
       },
       "data": [
        {
         "coloraxis": "coloraxis",
         "geo": "geo",
         "hovertemplate": "<b>%{hovertext}</b><br><br>iso_code=%{location}<br>total_cases=%{z}<extra></extra>",
         "hovertext": [
          "Ethiopia",
          "India",
          "Kenya"
         ],
         "locations": [
          "ETH",
          "IND",
          "KEN"
         ],
         "name": "",
         "type": "choropleth",
         "z": {
          "bdata": "AAAAALB78EAAAACAmz9UQQAAAACA7uFA",
          "dtype": "f8"
         }
        }
       ],
       "layout": {
        "coloraxis": {
         "colorbar": {
          "title": {
           "text": "total_cases"
          }
         },
         "colorscale": [
          [
           0,
           "#0d0887"
          ],
          [
           0.1111111111111111,
           "#46039f"
          ],
          [
           0.2222222222222222,
           "#7201a8"
          ],
          [
           0.3333333333333333,
           "#9c179e"
          ],
          [
           0.4444444444444444,
           "#bd3786"
          ],
          [
           0.5555555555555556,
           "#d8576b"
          ],
          [
           0.6666666666666666,
           "#ed7953"
          ],
          [
           0.7777777777777778,
           "#fb9f3a"
          ],
          [
           0.8888888888888888,
           "#fdca26"
          ],
          [
           1,
           "#f0f921"
          ]
         ]
        },
        "geo": {
         "center": {},
         "domain": {
          "x": [
           0,
           1
          ],
          "y": [
           0,
           1
          ]
         }
        },
        "legend": {
         "tracegroupgap": 0
        },
        "template": {
         "data": {
          "bar": [
           {
            "error_x": {
             "color": "#2a3f5f"
            },
            "error_y": {
             "color": "#2a3f5f"
            },
            "marker": {
             "line": {
              "color": "#E5ECF6",
              "width": 0.5
             },
             "pattern": {
              "fillmode": "overlay",
              "size": 10,
              "solidity": 0.2
             }
            },
            "type": "bar"
           }
          ],
          "barpolar": [
           {
            "marker": {
             "line": {
              "color": "#E5ECF6",
              "width": 0.5
             },
             "pattern": {
              "fillmode": "overlay",
              "size": 10,
              "solidity": 0.2
             }
            },
            "type": "barpolar"
           }
          ],
          "carpet": [
           {
            "aaxis": {
             "endlinecolor": "#2a3f5f",
             "gridcolor": "white",
             "linecolor": "white",
             "minorgridcolor": "white",
             "startlinecolor": "#2a3f5f"
            },
            "baxis": {
             "endlinecolor": "#2a3f5f",
             "gridcolor": "white",
             "linecolor": "white",
             "minorgridcolor": "white",
             "startlinecolor": "#2a3f5f"
            },
            "type": "carpet"
           }
          ],
          "choropleth": [
           {
            "colorbar": {
             "outlinewidth": 0,
             "ticks": ""
            },
            "type": "choropleth"
           }
          ],
          "contour": [
           {
            "colorbar": {
             "outlinewidth": 0,
             "ticks": ""
            },
            "colorscale": [
             [
              0,
              "#0d0887"
             ],
             [
              0.1111111111111111,
              "#46039f"
             ],
             [
              0.2222222222222222,
              "#7201a8"
             ],
             [
              0.3333333333333333,
              "#9c179e"
             ],
             [
              0.4444444444444444,
              "#bd3786"
             ],
             [
              0.5555555555555556,
              "#d8576b"
             ],
             [
              0.6666666666666666,
              "#ed7953"
             ],
             [
              0.7777777777777778,
              "#fb9f3a"
             ],
             [
              0.8888888888888888,
              "#fdca26"
             ],
             [
              1,
              "#f0f921"
             ]
            ],
            "type": "contour"
           }
          ],
          "contourcarpet": [
           {
            "colorbar": {
             "outlinewidth": 0,
             "ticks": ""
            },
            "type": "contourcarpet"
           }
          ],
          "heatmap": [
           {
            "colorbar": {
             "outlinewidth": 0,
             "ticks": ""
            },
            "colorscale": [
             [
              0,
              "#0d0887"
             ],
             [
              0.1111111111111111,
              "#46039f"
             ],
             [
              0.2222222222222222,
              "#7201a8"
             ],
             [
              0.3333333333333333,
              "#9c179e"
             ],
             [
              0.4444444444444444,
              "#bd3786"
             ],
             [
              0.5555555555555556,
              "#d8576b"
             ],
             [
              0.6666666666666666,
              "#ed7953"
             ],
             [
              0.7777777777777778,
              "#fb9f3a"
             ],
             [
              0.8888888888888888,
              "#fdca26"
             ],
             [
              1,
              "#f0f921"
             ]
            ],
            "type": "heatmap"
           }
          ],
          "histogram": [
           {
            "marker": {
             "pattern": {
              "fillmode": "overlay",
              "size": 10,
              "solidity": 0.2
             }
            },
            "type": "histogram"
           }
          ],
          "histogram2d": [
           {
            "colorbar": {
             "outlinewidth": 0,
             "ticks": ""
            },
            "colorscale": [
             [
              0,
              "#0d0887"
             ],
             [
              0.1111111111111111,
              "#46039f"
             ],
             [
              0.2222222222222222,
              "#7201a8"
             ],
             [
              0.3333333333333333,
              "#9c179e"
             ],
             [
              0.4444444444444444,
              "#bd3786"
             ],
             [
              0.5555555555555556,
              "#d8576b"
             ],
             [
              0.6666666666666666,
              "#ed7953"
             ],
             [
              0.7777777777777778,
              "#fb9f3a"
             ],
             [
              0.8888888888888888,
              "#fdca26"
             ],
             [
              1,
              "#f0f921"
             ]
            ],
            "type": "histogram2d"
           }
          ],
          "histogram2dcontour": [
           {
            "colorbar": {
             "outlinewidth": 0,
             "ticks": ""
            },
            "colorscale": [
             [
              0,
              "#0d0887"
             ],
             [
              0.1111111111111111,
              "#46039f"
             ],
             [
              0.2222222222222222,
              "#7201a8"
             ],
             [
              0.3333333333333333,
              "#9c179e"
             ],
             [
              0.4444444444444444,
              "#bd3786"
             ],
             [
              0.5555555555555556,
              "#d8576b"
             ],
             [
              0.6666666666666666,
              "#ed7953"
             ],
             [
              0.7777777777777778,
              "#fb9f3a"
             ],
             [
              0.8888888888888888,
              "#fdca26"
             ],
             [
              1,
              "#f0f921"
             ]
            ],
            "type": "histogram2dcontour"
           }
          ],
          "mesh3d": [
           {
            "colorbar": {
             "outlinewidth": 0,
             "ticks": ""
            },
            "type": "mesh3d"
           }
          ],
          "parcoords": [
           {
            "line": {
             "colorbar": {
              "outlinewidth": 0,
              "ticks": ""
             }
            },
            "type": "parcoords"
           }
          ],
          "pie": [
           {
            "automargin": true,
            "type": "pie"
           }
          ],
          "scatter": [
           {
            "fillpattern": {
             "fillmode": "overlay",
             "size": 10,
             "solidity": 0.2
            },
            "type": "scatter"
           }
          ],
          "scatter3d": [
           {
            "line": {
             "colorbar": {
              "outlinewidth": 0,
              "ticks": ""
             }
            },
            "marker": {
             "colorbar": {
              "outlinewidth": 0,
              "ticks": ""
             }
            },
            "type": "scatter3d"
           }
          ],
          "scattercarpet": [
           {
            "marker": {
             "colorbar": {
              "outlinewidth": 0,
              "ticks": ""
             }
            },
            "type": "scattercarpet"
           }
          ],
          "scattergeo": [
           {
            "marker": {
             "colorbar": {
              "outlinewidth": 0,
              "ticks": ""
             }
            },
            "type": "scattergeo"
           }
          ],
          "scattergl": [
           {
            "marker": {
             "colorbar": {
              "outlinewidth": 0,
              "ticks": ""
             }
            },
            "type": "scattergl"
           }
          ],
          "scattermap": [
           {
            "marker": {
             "colorbar": {
              "outlinewidth": 0,
              "ticks": ""
             }
            },
            "type": "scattermap"
           }
          ],
          "scattermapbox": [
           {
            "marker": {
             "colorbar": {
              "outlinewidth": 0,
              "ticks": ""
             }
            },
            "type": "scattermapbox"
           }
          ],
          "scatterpolar": [
           {
            "marker": {
             "colorbar": {
              "outlinewidth": 0,
              "ticks": ""
             }
            },
            "type": "scatterpolar"
           }
          ],
          "scatterpolargl": [
           {
            "marker": {
             "colorbar": {
              "outlinewidth": 0,
              "ticks": ""
             }
            },
            "type": "scatterpolargl"
           }
          ],
          "scatterternary": [
           {
            "marker": {
             "colorbar": {
              "outlinewidth": 0,
              "ticks": ""
             }
            },
            "type": "scatterternary"
           }
          ],
          "surface": [
           {
            "colorbar": {
             "outlinewidth": 0,
             "ticks": ""
            },
            "colorscale": [
             [
              0,
              "#0d0887"
             ],
             [
              0.1111111111111111,
              "#46039f"
             ],
             [
              0.2222222222222222,
              "#7201a8"
             ],
             [
              0.3333333333333333,
              "#9c179e"
             ],
             [
              0.4444444444444444,
              "#bd3786"
             ],
             [
              0.5555555555555556,
              "#d8576b"
             ],
             [
              0.6666666666666666,
              "#ed7953"
             ],
             [
              0.7777777777777778,
              "#fb9f3a"
             ],
             [
              0.8888888888888888,
              "#fdca26"
             ],
             [
              1,
              "#f0f921"
             ]
            ],
            "type": "surface"
           }
          ],
          "table": [
           {
            "cells": {
             "fill": {
              "color": "#EBF0F8"
             },
             "line": {
              "color": "white"
             }
            },
            "header": {
             "fill": {
              "color": "#C8D4E3"
             },
             "line": {
              "color": "white"
             }
            },
            "type": "table"
           }
          ]
         },
         "layout": {
          "annotationdefaults": {
           "arrowcolor": "#2a3f5f",
           "arrowhead": 0,
           "arrowwidth": 1
          },
          "autotypenumbers": "strict",
          "coloraxis": {
           "colorbar": {
            "outlinewidth": 0,
            "ticks": ""
           }
          },
          "colorscale": {
           "diverging": [
            [
             0,
             "#8e0152"
            ],
            [
             0.1,
             "#c51b7d"
            ],
            [
             0.2,
             "#de77ae"
            ],
            [
             0.3,
             "#f1b6da"
            ],
            [
             0.4,
             "#fde0ef"
            ],
            [
             0.5,
             "#f7f7f7"
            ],
            [
             0.6,
             "#e6f5d0"
            ],
            [
             0.7,
             "#b8e186"
            ],
            [
             0.8,
             "#7fbc41"
            ],
            [
             0.9,
             "#4d9221"
            ],
            [
             1,
             "#276419"
            ]
           ],
           "sequential": [
            [
             0,
             "#0d0887"
            ],
            [
             0.1111111111111111,
             "#46039f"
            ],
            [
             0.2222222222222222,
             "#7201a8"
            ],
            [
             0.3333333333333333,
             "#9c179e"
            ],
            [
             0.4444444444444444,
             "#bd3786"
            ],
            [
             0.5555555555555556,
             "#d8576b"
            ],
            [
             0.6666666666666666,
             "#ed7953"
            ],
            [
             0.7777777777777778,
             "#fb9f3a"
            ],
            [
             0.8888888888888888,
             "#fdca26"
            ],
            [
             1,
             "#f0f921"
            ]
           ],
           "sequentialminus": [
            [
             0,
             "#0d0887"
            ],
            [
             0.1111111111111111,
             "#46039f"
            ],
            [
             0.2222222222222222,
             "#7201a8"
            ],
            [
             0.3333333333333333,
             "#9c179e"
            ],
            [
             0.4444444444444444,
             "#bd3786"
            ],
            [
             0.5555555555555556,
             "#d8576b"
            ],
            [
             0.6666666666666666,
             "#ed7953"
            ],
            [
             0.7777777777777778,
             "#fb9f3a"
            ],
            [
             0.8888888888888888,
             "#fdca26"
            ],
            [
             1,
             "#f0f921"
            ]
           ]
          },
          "colorway": [
           "#636efa",
           "#EF553B",
           "#00cc96",
           "#ab63fa",
           "#FFA15A",
           "#19d3f3",
           "#FF6692",
           "#B6E880",
           "#FF97FF",
           "#FECB52"
          ],
          "font": {
           "color": "#2a3f5f"
          },
          "geo": {
           "bgcolor": "white",
           "lakecolor": "white",
           "landcolor": "#E5ECF6",
           "showlakes": true,
           "showland": true,
           "subunitcolor": "white"
          },
          "hoverlabel": {
           "align": "left"
          },
          "hovermode": "closest",
          "mapbox": {
           "style": "light"
          },
          "paper_bgcolor": "white",
          "plot_bgcolor": "#E5ECF6",
          "polar": {
           "angularaxis": {
            "gridcolor": "white",
            "linecolor": "white",
            "ticks": ""
           },
           "bgcolor": "#E5ECF6",
           "radialaxis": {
            "gridcolor": "white",
            "linecolor": "white",
            "ticks": ""
           }
          },
          "scene": {
           "xaxis": {
            "backgroundcolor": "#E5ECF6",
            "gridcolor": "white",
            "gridwidth": 2,
            "linecolor": "white",
            "showbackground": true,
            "ticks": "",
            "zerolinecolor": "white"
           },
           "yaxis": {
            "backgroundcolor": "#E5ECF6",
            "gridcolor": "white",
            "gridwidth": 2,
            "linecolor": "white",
            "showbackground": true,
            "ticks": "",
            "zerolinecolor": "white"
           },
           "zaxis": {
            "backgroundcolor": "#E5ECF6",
            "gridcolor": "white",
            "gridwidth": 2,
            "linecolor": "white",
            "showbackground": true,
            "ticks": "",
            "zerolinecolor": "white"
           }
          },
          "shapedefaults": {
           "line": {
            "color": "#2a3f5f"
           }
          },
          "ternary": {
           "aaxis": {
            "gridcolor": "white",
            "linecolor": "white",
            "ticks": ""
           },
           "baxis": {
            "gridcolor": "white",
            "linecolor": "white",
            "ticks": ""
           },
           "bgcolor": "#E5ECF6",
           "caxis": {
            "gridcolor": "white",
            "linecolor": "white",
            "ticks": ""
           }
          },
          "title": {
           "x": 0.05
          },
          "xaxis": {
           "automargin": true,
           "gridcolor": "white",
           "linecolor": "white",
           "ticks": "",
           "title": {
            "standoff": 15
           },
           "zerolinecolor": "white",
           "zerolinewidth": 2
          },
          "yaxis": {
           "automargin": true,
           "gridcolor": "white",
           "linecolor": "white",
           "ticks": "",
           "title": {
            "standoff": 15
           },
           "zerolinecolor": "white",
           "zerolinewidth": 2
          }
         }
        },
        "title": {
         "text": "COVID-19 Cases by Country"
        }
       }
      }
     },
     "metadata": {},
     "output_type": "display_data"
    },
    {
     "name": "stdout",
     "output_type": "stream",
     "text": [
      "\n",
      "Automated Key Insights:\n",
      "Kenya has a total of 5,308,014 cases, with 0 vaccinations as of 2020-09-19. The last case recorded was on 2020-03-06.\n",
      "India has a total of 5,308,014 cases, with 0 vaccinations as of 2020-09-19. The last case recorded was on 2020-09-19.\n",
      "Ethiopia has a total of 67,515 cases, with 0 vaccinations as of 2020-09-19. The last case recorded was on 2020-09-19.\n"
     ]
    }
   ],
   "source": [
    "# COVID-19 Global Data Tracker\n",
    "\n",
    "# Import necessary libraries\n",
    "import pandas as pd\n",
    "import matplotlib.pyplot as plt\n",
    "import plotly.express as px\n",
    "\n",
    "# ===========================\n",
    "# Step 1: Data Collection\n",
    "# ===========================\n",
    "try:\n",
    "    # Load the dataset from the CSV file\n",
    "    df = pd.read_csv('owid-covid-data.csv')\n",
    "except FileNotFoundError:\n",
    "    print(\"Error: The file 'owid-covid-data.csv' was not found. Please check the file path.\")\n",
    "    raise\n",
    "\n",
    "# ===========================\n",
    "# Step 2: Data Loading & Exploration\n",
    "# ===========================\n",
    "print(\"Columns in the dataset:\")\n",
    "print(df.columns)\n",
    "\n",
    "# Preview the first few rows of the dataset\n",
    "print(\"\\nFirst few rows of the dataset:\")\n",
    "print(df.head())\n",
    "\n",
    "# Check for missing values in the dataset\n",
    "print(\"\\nMissing values in each column:\")\n",
    "print(df.isnull().sum())\n",
    "\n",
    "# ===========================\n",
    "# Step 3: Data Cleaning\n",
    "# ===========================\n",
    "# Define countries of interest for analysis\n",
    "countries_of_interest = ['Kenya', 'USA', 'India', 'Ethiopia']\n",
    "\n",
    "# Filter the dataset for the selected countries\n",
    "df_filtered = df[df['location'].isin(countries_of_interest)]\n",
    "\n",
    "# Remove rows with missing dates\n",
    "df_filtered = df_filtered.dropna(subset=['date'])\n",
    "\n",
    "# Convert the 'date' column to datetime format\n",
    "df_filtered['date'] = pd.to_datetime(df_filtered['date'])\n",
    "\n",
    "# Handle missing numeric values by forward-filling\n",
    "df_filtered = df_filtered.ffill()\n",
    "\n",
    "# ===========================\n",
    "# Step 4: Exploratory Data Analysis (EDA)\n",
    "# ===========================\n",
    "# Check if the required columns are present\n",
    "required_columns = ['date', 'location', 'total_cases', 'total_deaths', 'total_vaccinations']\n",
    "\n",
    "for column in required_columns:\n",
    "    if column not in df_filtered.columns:\n",
    "        print(f\"Warning: Column '{column}' not found in the filtered dataset.\")\n",
    "\n",
    "# Plot total cases over time for each country\n",
    "plt.figure(figsize=(10, 5))\n",
    "for country in countries_of_interest:\n",
    "    country_data = df_filtered[df_filtered['location'] == country]\n",
    "    if 'total_cases' in df_filtered.columns and not country_data.empty:\n",
    "        plt.plot(country_data['date'], \n",
    "                 country_data['total_cases'], label=country)\n",
    "\n",
    "# Only show legend if there are labels\n",
    "if any(country in countries_of_interest for country in df_filtered['location']):\n",
    "    plt.title('Total COVID-19 Cases Over Time')\n",
    "    plt.xlabel('Date')\n",
    "    plt.ylabel('Total Cases')\n",
    "    plt.legend(loc='upper left')  # Ensure legend is placed\n",
    "    plt.grid()\n",
    "    plt.show()\n",
    "else:\n",
    "    print(\"No data available to plot total cases.\")\n",
    "\n",
    "# Check if total_vaccinations column exists\n",
    "if 'total_vaccinations' not in df_filtered.columns:\n",
    "    print(\"Warning: 'total_vaccinations' column not found in the filtered dataset.\")\n",
    "else:\n",
    "    # Plot cumulative vaccinations over time for each country\n",
    "    plt.figure(figsize=(10, 5))\n",
    "    for country in countries_of_interest:\n",
    "        country_data = df_filtered[df_filtered['location'] == country]\n",
    "        if not country_data.empty and not country_data['total_vaccinations'].isnull().all():\n",
    "            plt.plot(country_data['date'], \n",
    "                     country_data['total_vaccinations'], label=country)\n",
    "\n",
    "    # Only show legend if there are labels\n",
    "    if any(country in countries_of_interest for country in df_filtered['location']):\n",
    "        plt.title('Cumulative Vaccinations Over Time')\n",
    "        plt.xlabel('Date')\n",
    "        plt.ylabel('Total Vaccinations')\n",
    "        plt.legend(loc='upper left')  # Ensure legend is placed\n",
    "        plt.grid()\n",
    "        plt.show()\n",
    "    else:\n",
    "        print(\"No data available to plot vaccinations.\")\n",
    "\n",
    "# ===========================\n",
    "# Step 6: Optional - Build a Choropleth Map\n",
    "# ===========================\n",
    "latest_data = df_filtered[df_filtered['date'] == df_filtered['date'].max()]\n",
    "\n",
    "try:\n",
    "    fig = px.choropleth(\n",
    "        latest_data,\n",
    "        locations='iso_code',\n",
    "        color='total_cases',\n",
    "        hover_name='location',\n",
    "        title='COVID-19 Cases by Country',\n",
    "        color_continuous_scale=px.colors.sequential.Plasma\n",
    "    )\n",
    "    fig.show()\n",
    "except KeyError as e:\n",
    "    print(f\"Warning: Column '{e}' not found in the data for choropleth map.\")\n",
    "\n",
    "# ===========================\n",
    "# Step 7: Automated Insights Generation\n",
    "# ===========================\n",
    "def generate_insights(data, countries):\n",
    "    insights = []\n",
    "    \n",
    "    for country in countries:\n",
    "        country_data = data[data['location'] == country]\n",
    "        \n",
    "        if not country_data.empty:\n",
    "            total_cases = country_data['total_cases'].max()\n",
    "            total_vaccinations = country_data['total_vaccinations'].max() if 'total_vaccinations' in country_data.columns else 0\n",
    "            latest_date = country_data['date'].max()\n",
    "            last_case_date = country_data[country_data['total_cases'] == total_cases]['date'].values[0]\n",
    "            \n",
    "            last_case_date_str = pd.to_datetime(last_case_date).date()\n",
    "            \n",
    "            insights.append(f\"{country} has a total of {total_cases:,.0f} cases, \"\n",
    "                            f\"with {total_vaccinations:,.0f} vaccinations as of {latest_date.date()}. \"\n",
    "                            f\"The last case recorded was on {last_case_date_str}.\")\n",
    "    \n",
    "    return insights\n",
    "\n",
    "# Generate insights\n",
    "automated_insights = generate_insights(df_filtered, countries_of_interest)\n",
    "\n",
    "# Print insights\n",
    "print(\"\\nAutomated Key Insights:\")\n",
    "for insight in automated_insights:\n",
    "    print(insight)"
   ]
  },
  {
   "cell_type": "code",
   "execution_count": null,
   "id": "29353ca7-f46f-493b-b1a3-33938a7749f7",
   "metadata": {},
   "outputs": [],
   "source": []
  }
 ],
 "metadata": {
  "kernelspec": {
   "display_name": "Python 3 (ipykernel)",
   "language": "python",
   "name": "python3"
  },
  "language_info": {
   "codemirror_mode": {
    "name": "ipython",
    "version": 3
   },
   "file_extension": ".py",
   "mimetype": "text/x-python",
   "name": "python",
   "nbconvert_exporter": "python",
   "pygments_lexer": "ipython3",
   "version": "3.13.7"
  }
 },
 "nbformat": 4,
 "nbformat_minor": 5
}
